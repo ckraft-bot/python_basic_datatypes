{
 "cells": [
  {
   "attachments": {},
   "cell_type": "markdown",
   "metadata": {},
   "source": [
    "# Python Data Types\n",
    "\n",
    "- numeric\n",
    "    - int\n",
    "    - float\n",
    "    - complex\n",
    "- bool\n",
    "- str\n",
    "- list\n",
    "- array\n",
    "- tuple\n",
    "- dictionary"
   ]
  },
  {
   "attachments": {},
   "cell_type": "markdown",
   "metadata": {},
   "source": [
    "## Numeric"
   ]
  },
  {
   "cell_type": "code",
   "execution_count": 819,
   "metadata": {},
   "outputs": [
    {
     "name": "stdout",
     "output_type": "stream",
     "text": [
      "The 1st value is 5 and the data type is <class 'int'>\n",
      "The 2nd value is 3.3 and the data type is <class 'float'>\n",
      "The 3rd value is (5+3j) and the data type is <class 'complex'>\n"
     ]
    }
   ],
   "source": [
    "value_1 = 5\n",
    "value_2 = 3.3\n",
    "value_3 = 5+3j #(x+yj) = (real number + imaginary number) i is replaced with j\n",
    "\n",
    "print(f\"The 1st value is {value_1} and the data type is {type(value_1)}\")\n",
    "print(f\"The 2nd value is {value_2} and the data type is {type(value_2)}\")\n",
    "print(f\"The 3rd value is {value_3} and the data type is {type(value_3)}\")"
   ]
  },
  {
   "cell_type": "code",
   "execution_count": 820,
   "metadata": {},
   "outputs": [
    {
     "name": "stdout",
     "output_type": "stream",
     "text": [
      "The real part of complex number is : 5.0\n",
      "The imaginary part of complex number is : 3.0\n"
     ]
    }
   ],
   "source": [
    "import cmath\n",
    "\n",
    "print(\"The real part of complex number is : \", end=\"\")\n",
    "print(value_3.real)\n",
    "\n",
    "print(\"The imaginary part of complex number is : \", end=\"\")\n",
    "print(value_3.imag)"
   ]
  },
  {
   "attachments": {},
   "cell_type": "markdown",
   "metadata": {},
   "source": [
    "## Bool"
   ]
  },
  {
   "cell_type": "code",
   "execution_count": 821,
   "metadata": {},
   "outputs": [
    {
     "name": "stdout",
     "output_type": "stream",
     "text": [
      "correct\n"
     ]
    }
   ],
   "source": [
    "my_number = 10\n",
    "guess = 10\n",
    "\n",
    "if my_number == guess:\n",
    "    print(\"correct\")\n",
    "else:\n",
    "    print(\"Wrong\")"
   ]
  },
  {
   "attachments": {},
   "cell_type": "markdown",
   "metadata": {},
   "source": [
    "## Strings"
   ]
  },
  {
   "cell_type": "code",
   "execution_count": 822,
   "metadata": {},
   "outputs": [
    {
     "name": "stdout",
     "output_type": "stream",
     "text": [
      "A is an <class 'int'> and B is a <class 'str'>.\n"
     ]
    }
   ],
   "source": [
    "A = 1\n",
    "B = \"1\"\n",
    "print(f\"A is an {type(A)} and B is a {type(B)}.\")"
   ]
  },
  {
   "cell_type": "code",
   "execution_count": 823,
   "metadata": {},
   "outputs": [
    {
     "name": "stdout",
     "output_type": "stream",
     "text": [
      "Hello world\n"
     ]
    }
   ],
   "source": [
    "print(\"Hello world\")"
   ]
  },
  {
   "cell_type": "code",
   "execution_count": 824,
   "metadata": {},
   "outputs": [
    {
     "name": "stdout",
     "output_type": "stream",
     "text": [
      "Hello world\n"
     ]
    }
   ],
   "source": [
    "to = \"world\"\n",
    "print(f\"Hello {to}\")"
   ]
  },
  {
   "cell_type": "code",
   "execution_count": 825,
   "metadata": {},
   "outputs": [
    {
     "name": "stdout",
     "output_type": "stream",
     "text": [
      "Claire\n"
     ]
    }
   ],
   "source": [
    "name = \"Claire\"\n",
    "print(name)"
   ]
  },
  {
   "cell_type": "code",
   "execution_count": 826,
   "metadata": {},
   "outputs": [
    {
     "name": "stdout",
     "output_type": "stream",
     "text": [
      "CLAIRE\n"
     ]
    }
   ],
   "source": [
    "print(name.upper())"
   ]
  },
  {
   "cell_type": "code",
   "execution_count": 827,
   "metadata": {},
   "outputs": [
    {
     "name": "stdout",
     "output_type": "stream",
     "text": [
      "claire\n"
     ]
    }
   ],
   "source": [
    "print(name.lower())"
   ]
  },
  {
   "cell_type": "code",
   "execution_count": 828,
   "metadata": {},
   "outputs": [
    {
     "name": "stdout",
     "output_type": "stream",
     "text": [
      "My last name is:      Kraft, Claire      .\n"
     ]
    }
   ],
   "source": [
    "full_name = \"      Kraft, Claire      \"\n",
    "full_name.strip()\n",
    "print(f\"My last name is:{full_name}.\")"
   ]
  },
  {
   "cell_type": "code",
   "execution_count": 829,
   "metadata": {},
   "outputs": [
    {
     "name": "stdout",
     "output_type": "stream",
     "text": [
      "My last name is: Kraft, Claire.\n"
     ]
    }
   ],
   "source": [
    "full_name_proper= full_name.strip()\n",
    "print(f\"My last name is: {full_name_proper}.\")"
   ]
  },
  {
   "cell_type": "code",
   "execution_count": 830,
   "metadata": {},
   "outputs": [
    {
     "data": {
      "text/plain": [
       "'Kraft'"
      ]
     },
     "execution_count": 830,
     "metadata": {},
     "output_type": "execute_result"
    }
   ],
   "source": [
    "last_name = full_name_proper.replace(\", Claire\", \"\")\n",
    "last_name"
   ]
  },
  {
   "attachments": {},
   "cell_type": "markdown",
   "metadata": {},
   "source": [
    "## List"
   ]
  },
  {
   "cell_type": "code",
   "execution_count": 831,
   "metadata": {},
   "outputs": [
    {
     "name": "stdout",
     "output_type": "stream",
     "text": [
      "['red', 'yellow', 'blue', 'green']\n",
      "<class 'list'>\n"
     ]
    }
   ],
   "source": [
    "colors = [\"red\", \"yellow\", \"blue\", \"green\"]\n",
    "print(colors)\n",
    "print(type(colors))"
   ]
  },
  {
   "cell_type": "code",
   "execution_count": 832,
   "metadata": {},
   "outputs": [
    {
     "name": "stdout",
     "output_type": "stream",
     "text": [
      "yellow\n"
     ]
    }
   ],
   "source": [
    "print(colors[1])"
   ]
  },
  {
   "cell_type": "code",
   "execution_count": 833,
   "metadata": {},
   "outputs": [
    {
     "name": "stdout",
     "output_type": "stream",
     "text": [
      "green\n"
     ]
    }
   ],
   "source": [
    "print(colors[-1])"
   ]
  },
  {
   "cell_type": "code",
   "execution_count": 834,
   "metadata": {},
   "outputs": [
    {
     "name": "stdout",
     "output_type": "stream",
     "text": [
      "['blue', 'green', 'red', 'yellow']\n"
     ]
    }
   ],
   "source": [
    "print(sorted(colors))"
   ]
  },
  {
   "cell_type": "code",
   "execution_count": 835,
   "metadata": {},
   "outputs": [
    {
     "name": "stdout",
     "output_type": "stream",
     "text": [
      "['yellow', 'red', 'green', 'blue']\n"
     ]
    }
   ],
   "source": [
    "print(sorted(colors, reverse=True))"
   ]
  },
  {
   "cell_type": "code",
   "execution_count": 836,
   "metadata": {},
   "outputs": [
    {
     "name": "stdout",
     "output_type": "stream",
     "text": [
      "blue was removed from the colors list.\n",
      "The reduced colors list look like this: ['red', 'yellow', 'green']\n"
     ]
    }
   ],
   "source": [
    "colors = [\"red\", \"yellow\", \"blue\", \"green\"]\n",
    "removed = colors.pop(2)\n",
    "print(f\"{removed} was removed from the colors list.\")\n",
    "print(f\"The reduced colors list look like this: {colors}\")"
   ]
  },
  {
   "cell_type": "code",
   "execution_count": 837,
   "metadata": {},
   "outputs": [
    {
     "name": "stdout",
     "output_type": "stream",
     "text": [
      "['red', 'yellow', 'blue', 'green', 'purple']\n"
     ]
    }
   ],
   "source": [
    "colors = [\"red\", \"yellow\", \"blue\", \"green\"]\n",
    "added = colors.append('purple')\n",
    "print(colors)"
   ]
  },
  {
   "attachments": {},
   "cell_type": "markdown",
   "metadata": {},
   "source": [
    "## Array"
   ]
  },
  {
   "attachments": {},
   "cell_type": "markdown",
   "metadata": {},
   "source": [
    "simple one dim array"
   ]
  },
  {
   "cell_type": "code",
   "execution_count": 838,
   "metadata": {},
   "outputs": [
    {
     "name": "stdout",
     "output_type": "stream",
     "text": [
      "array('i', [1, 2, 3, 4, 5])\n",
      "<class 'array.array'>\n"
     ]
    }
   ],
   "source": [
    "import array as arr\n",
    "array_1 = arr.array(\"i\", [1, 2, 3, 4, 5]) #i = all elements\n",
    "print(array_1)\n",
    "print(type(array_1))"
   ]
  },
  {
   "cell_type": "code",
   "execution_count": 839,
   "metadata": {},
   "outputs": [
    {
     "name": "stdout",
     "output_type": "stream",
     "text": [
      "['ranking' '1' '2' '3']\n",
      "<class 'numpy.ndarray'>\n"
     ]
    }
   ],
   "source": [
    "import numpy as np\n",
    "array_2 = np.array([\"ranking\", 1, 2, 3])\n",
    "print (array_2)\n",
    "print(type(array_2))"
   ]
  },
  {
   "attachments": {},
   "cell_type": "markdown",
   "metadata": {},
   "source": [
    "multi dim array"
   ]
  },
  {
   "cell_type": "code",
   "execution_count": 840,
   "metadata": {},
   "outputs": [
    {
     "name": "stdout",
     "output_type": "stream",
     "text": [
      "\n",
      "\n",
      "[[1 2 3 4]\n",
      " [5 6 7 8]]\n",
      "<class 'numpy.ndarray'>\n"
     ]
    }
   ],
   "source": [
    "print(\"\\n\")\n",
    "array_4 = np.array([[1,2,3,4], [5,6,7,8]])\n",
    "print(array_4)\n",
    "print(type(array_4))"
   ]
  },
  {
   "cell_type": "code",
   "execution_count": 841,
   "metadata": {},
   "outputs": [
    {
     "name": "stdout",
     "output_type": "stream",
     "text": [
      "[[[1 2 3]\n",
      "  [3 4 5]]\n",
      "\n",
      " [[6 7 8]\n",
      "  [9 8 7]]\n",
      "\n",
      " [[6 5 4]\n",
      "  [3 2 1]]]\n"
     ]
    }
   ],
   "source": [
    "array_5 = np.array([[[1,2,3],[3,4,5]],\n",
    "                [[6,7,8],[9,8,7]],\n",
    "                [[6,5,4],[3,2,1]]])\n",
    "print(array_5)"
   ]
  },
  {
   "attachments": {},
   "cell_type": "markdown",
   "metadata": {},
   "source": [
    "do math operations on arrays"
   ]
  },
  {
   "cell_type": "code",
   "execution_count": 842,
   "metadata": {},
   "outputs": [
    {
     "name": "stdout",
     "output_type": "stream",
     "text": [
      "[20.   5.   0.4]\n",
      "<class 'numpy.ndarray'>\n"
     ]
    }
   ],
   "source": [
    "array = np.array([100, 25, 2])\n",
    "half = array/5\n",
    "print(half)\n",
    "print(type(half))"
   ]
  },
  {
   "attachments": {},
   "cell_type": "markdown",
   "metadata": {},
   "source": [
    "![list vs array](https://encrypted-tbn0.gstatic.com/images?q=tbn:ANd9GcTZW4XjNiBNBHOe_pz7D7zl7R8Ll4h8BIeuIQ:https://soshace.com/wp-content/uploads/2019/10/Python-Array-Explained-and-Visualized-python-arrays-vs.-python-loops.png&usqp=CAU) \n",
    "source: https://soshace.com/python-array-explained-and-visualized/\n",
    "\n",
    "![comparison table](https://media.geeksforgeeks.org/wp-content/uploads/20220525085238/Screenshot20220525085154.png) \n",
    "source: https://www.geeksforgeeks.org/linked-list-vs-array/"
   ]
  },
  {
   "attachments": {},
   "cell_type": "markdown",
   "metadata": {},
   "source": [
    "## Tuple\n",
    "\n",
    "Features of\n",
    "\n",
    "- can hold strings, ints, lists, etc\n",
    "- immutable"
   ]
  },
  {
   "attachments": {},
   "cell_type": "markdown",
   "metadata": {},
   "source": [
    "### simple tuple"
   ]
  },
  {
   "cell_type": "code",
   "execution_count": 843,
   "metadata": {},
   "outputs": [
    {
     "name": "stdout",
     "output_type": "stream",
     "text": [
      "(9, 'blue', 3.4)\n"
     ]
    }
   ],
   "source": [
    "tuple1 = (9, \"blue\", 3.4)\n",
    "print(tuple1)"
   ]
  },
  {
   "cell_type": "code",
   "execution_count": 844,
   "metadata": {},
   "outputs": [
    {
     "name": "stdout",
     "output_type": "stream",
     "text": [
      "(5, 'red', 2.8)\n"
     ]
    }
   ],
   "source": [
    "tuple2 = (5, \"red\", 2.8)\n",
    "print(tuple2)"
   ]
  },
  {
   "attachments": {},
   "cell_type": "markdown",
   "metadata": {},
   "source": [
    "### concat"
   ]
  },
  {
   "cell_type": "code",
   "execution_count": 845,
   "metadata": {},
   "outputs": [
    {
     "name": "stdout",
     "output_type": "stream",
     "text": [
      "(9, 'blue', 3.4, 5, 'red', 2.8)\n",
      "<class 'tuple'>\n"
     ]
    }
   ],
   "source": [
    "tuple3 = tuple1 + tuple2\n",
    "print(tuple3)\n",
    "print(type(tuple3))"
   ]
  },
  {
   "attachments": {},
   "cell_type": "markdown",
   "metadata": {},
   "source": [
    "### nested"
   ]
  },
  {
   "cell_type": "code",
   "execution_count": 846,
   "metadata": {},
   "outputs": [
    {
     "name": "stdout",
     "output_type": "stream",
     "text": [
      "('blue', [1, 2, 3], (4, 5, 6))\n"
     ]
    }
   ],
   "source": [
    "nested_tuple = (\"blue\", [1,2,3], (4,5,6))\n",
    "print(nested_tuple)"
   ]
  },
  {
   "attachments": {},
   "cell_type": "markdown",
   "metadata": {},
   "source": [
    "### manipulate tuple"
   ]
  },
  {
   "cell_type": "code",
   "execution_count": 847,
   "metadata": {},
   "outputs": [
    {
     "name": "stdout",
     "output_type": "stream",
     "text": [
      "Removing the first element\n",
      "([1, 2, 3], (4, 5, 6))\n"
     ]
    }
   ],
   "source": [
    "print(f\"Removing the first element\\n{nested_tuple[1:]}\")"
   ]
  },
  {
   "cell_type": "code",
   "execution_count": 848,
   "metadata": {},
   "outputs": [
    {
     "name": "stdout",
     "output_type": "stream",
     "text": [
      "Reverse travel of the original nested tuple\n",
      "((4, 5, 6), [1, 2, 3], 'blue')\n"
     ]
    }
   ],
   "source": [
    "print(f\"Reverse travel of the original nested tuple\\n{nested_tuple[::-1]}\")"
   ]
  },
  {
   "attachments": {},
   "cell_type": "markdown",
   "metadata": {},
   "source": [
    "## Dictionary"
   ]
  },
  {
   "attachments": {},
   "cell_type": "markdown",
   "metadata": {},
   "source": [
    "kv"
   ]
  },
  {
   "cell_type": "code",
   "execution_count": 849,
   "metadata": {},
   "outputs": [
    {
     "data": {
      "text/plain": [
       "{'Michael': 'Manager',\n",
       " 'Pam': 'Receptionist',\n",
       " 'Jim': 'Salesman',\n",
       " 'Dwight': 'Assistant to the Manager',\n",
       " 'Angela': 'Accountant'}"
      ]
     },
     "execution_count": 849,
     "metadata": {},
     "output_type": "execute_result"
    }
   ],
   "source": [
    "dunder_mifflin = {\"Michael\":\"Manager\", \n",
    "            \"Pam\":\"Receptionist\", \n",
    "            \"Jim\": \"Salesman\", \n",
    "            \"Dwight\": \"Assistant to the Manager\", \n",
    "            \"Angela\": \"Accountant\"\n",
    "            }\n",
    "\n",
    "dunder_mifflin"
   ]
  },
  {
   "attachments": {},
   "cell_type": "markdown",
   "metadata": {},
   "source": [
    "multi kv"
   ]
  },
  {
   "cell_type": "code",
   "execution_count": 850,
   "metadata": {},
   "outputs": [
    {
     "name": "stdout",
     "output_type": "stream",
     "text": [
      "\n",
      "Prints the keys and values in the dict based on selection\n",
      "Michael, Manger, M\n",
      "Pam, Receptionist, F\n",
      "Jim, Salesman, M\n",
      "Dwight, Assistant to the Manager, None\n",
      "Angela, Accountant, F\n"
     ]
    }
   ],
   "source": [
    "dunder_mifflin = [\n",
    "    {\"name\": \"Michael\", \"job\": \"Manger\", \"sex\": \"M\"},\n",
    "    {\"name\": \"Pam\", \"job\": \"Receptionist\", \"sex\": \"F\"},\n",
    "    {\"name\": \"Jim\", \"job\": \"Salesman\", \"sex\": \"M\"},\n",
    "    {\"name\": \"Dwight\", \"job\": \"Assistant to the Manager\", \"sex\": None},\n",
    "    {\"name\": \"Angela\", \"job\": \"Accountant\", \"sex\": \"F\"}\n",
    "    ]\n",
    "\n",
    "print(\"\\nPrints the keys and values in the dict based on selection\")\n",
    "for employee in dunder_mifflin:\n",
    "    print(employee[\"name\"], employee[\"job\"], employee[\"sex\"], sep=\", \") # prints the keys and values"
   ]
  },
  {
   "cell_type": "code",
   "execution_count": null,
   "metadata": {},
   "outputs": [],
   "source": []
  }
 ],
 "metadata": {
  "kernelspec": {
   "display_name": "Python 3",
   "language": "python",
   "name": "python3"
  },
  "language_info": {
   "codemirror_mode": {
    "name": "ipython",
    "version": 3
   },
   "file_extension": ".py",
   "mimetype": "text/x-python",
   "name": "python",
   "nbconvert_exporter": "python",
   "pygments_lexer": "ipython3",
   "version": "3.10.8"
  },
  "orig_nbformat": 4
 },
 "nbformat": 4,
 "nbformat_minor": 2
}
